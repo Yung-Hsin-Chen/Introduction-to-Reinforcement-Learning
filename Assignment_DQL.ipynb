{
  "cells": [
    {
      "cell_type": "markdown",
      "id": "02944396",
      "metadata": {
        "id": "02944396"
      },
      "source": [
        "# Assignment - Deep Q-Learning"
      ]
    },
    {
      "cell_type": "markdown",
      "source": [
        "### Import libraries and relevant files"
      ],
      "metadata": {
        "id": "1-LZkfpf3ESs"
      },
      "id": "1-LZkfpf3ESs"
    },
    {
      "cell_type": "code",
      "execution_count": null,
      "id": "c9652bc6",
      "metadata": {
        "id": "c9652bc6"
      },
      "outputs": [],
      "source": [
        "## IMPORT\n",
        "import numpy as np\n",
        "import matplotlib.pyplot as plt\n",
        "import sys\n",
        "\n",
        "size_board = 4"
      ]
    },
    {
      "cell_type": "code",
      "source": [
        "from google.colab import drive\n",
        "drive.mount('/content/drive')\n",
        "sys.path.append('/content/drive/MyDrive/UZH/Introduction to Reinforcement Learning/Chessboard/')"
      ],
      "metadata": {
        "colab": {
          "base_uri": "https://localhost:8080/"
        },
        "id": "xTDDPhITq8S3",
        "outputId": "c64bab11-ce5d-4e86-9a55-78cc91744c34"
      },
      "id": "xTDDPhITq8S3",
      "execution_count": null,
      "outputs": [
        {
          "output_type": "stream",
          "name": "stdout",
          "text": [
            "Mounted at /content/drive\n"
          ]
        }
      ]
    },
    {
      "cell_type": "code",
      "source": [
        "from degree_freedom_queen import *\n",
        "from degree_freedom_king1 import *\n",
        "from degree_freedom_king2 import *\n",
        "from generate_game import *\n",
        "from Chess_env import *"
      ],
      "metadata": {
        "id": "bl7UICKurMD_"
      },
      "id": "bl7UICKurMD_",
      "execution_count": null,
      "outputs": []
    },
    {
      "cell_type": "markdown",
      "id": "0bceca7c",
      "metadata": {
        "id": "0bceca7c"
      },
      "source": [
        "## The Environment\n",
        "\n",
        "You can find the environment in the file Chess_env, which contains the class Chess_env. To define an object, you need to provide the board size considered as input. In our example, size_board=4. \n",
        "Chess_env is composed by the following methods:\n",
        "\n",
        "1. Initialise_game. The method initialises an episode by placing the three pieces considered (Agent's king and queen, enemy's king) in the chess board. The outputs of the method are described below in order.\n",
        "\n",
        "     self.Board: A matrix representing the board locations filled with 4 numbers: 0, no piece in that position; 1, location of the \n",
        "     agent's king; 2 location of the queen; 3 location of the enemy king.\n",
        "     \n",
        "     X: The features, that is the input to the neural network. See the assignment for more information regarding the            definition of the features adopted. To personalise this, go into the Features method of the class Chess_env() and change        accordingly.\n",
        "     \n",
        "     allowed_a: The allowed actions that the agent can make. The agent is moving a king, with a total number of 8                possible actions, and a queen, with a total number of $(board_{size}-1)\\times 8$ actions. The total number of possible actions correspond      to the sum of the two, but not all actions are allowed in a given position (movements to locations outside the borders or      against chess rules). Thus, the variable allowed_a is a vector that is one (zero) for an action that the agent can (can't)      make. Be careful, apply the policy considered on the actions that are allowed only.\n",
        "     \n",
        "\n",
        "2. OneStep. The method performs a one step update of the system. Given as input the action selected by the agent, it updates the chess board by performing that action and the response of the enemy king (which is a random allowed action in the settings considered). The first three outputs are the same as for the Initialise_game method, but the variables are computed for the position reached after the update of the system. The fourth and fifth outputs are:\n",
        "\n",
        "     R: The reward. To change this, look at the OneStep method of the class where the rewards are set.\n",
        "     \n",
        "     Done: A variable that is 1 if the episode has ended (checkmate or draw).\n",
        "     \n",
        "     \n",
        "3. Features. Given the chessboard position, the method computes the features.\n",
        "\n",
        "This information and a quick analysis of the class should be all you need to get going. The other functions that the class exploits are uncommented and constitute an example on how not to write a python code. You can take a look at them if you want, but it is not necessary.\n",
        "\n",
        "\n",
        "\n",
        "\n"
      ]
    },
    {
      "cell_type": "code",
      "execution_count": null,
      "id": "9593a299",
      "metadata": {
        "id": "9593a299"
      },
      "outputs": [],
      "source": [
        "## INITIALISE THE ENVIRONMENT\n",
        "env = Chess_Env(size_board)\n",
        "\n",
        "S, X, allowed_a = env.Initialise_game()                       # INTIALISE GAME"
      ]
    },
    {
      "cell_type": "markdown",
      "source": [
        "### Neural network training"
      ],
      "metadata": {
        "id": "HtIDyZL73n6W"
      },
      "id": "HtIDyZL73n6W"
    },
    {
      "cell_type": "code",
      "source": [
        "# INITIALISE THE PARAMETERS OF YOUR NEURAL NETWORK AND...\n",
        "# PLEASE CONSIDER TO USE A MASK OF ONE FOR THE ACTION MADE AND ZERO OTHERWISE IF YOU ARE NOT USING VANILLA GRADIENT DESCENT...\n",
        "# WE SUGGEST A NETWORK WITH ONE HIDDEN LAYER WITH SIZE 200. \n",
        "\n",
        "S, X, allowed_a = env.Initialise_game()\n",
        "N_a = np.shape(allowed_a)[0]                # TOTAL NUMBER OF POSSIBLE ACTIONS (= 32)\n",
        "\n",
        "N_in = np.shape(X)[0]               ## INPUT SIZE (= 58)\n",
        "N_out = 32                          ## OUTPUT SIZE\n",
        "N_h = 200                           ## NUMBER OF HIDDEN NODES (= 200)\n",
        "\n",
        "W1 = np.random.randn(N_h, N_in) * np.sqrt(1 / (N_in))\n",
        "W2 = np.random.randn(N_out, N_h) * np.sqrt(1 / (N_h))\n",
        "bias_W1 = np.zeros((N_h, ))\n",
        "bias_W2 = np.zeros((N_out, ))\n",
        "\n",
        "\n",
        "## INITALISE THE NEURAL NETWORK\n",
        "\n",
        "def train(X, y, N_moves, W1, W2, bias_W1, bias_W2):     ## EPOCH = 1 (BATCH SIZE = SAMPLE SIZE)\n",
        "    # INITIALISE THE GRADIENTS FOR EACH BATCH\n",
        "    dW1 = np.zeros(W1.shape)\n",
        "    dW2 = np.zeros(W2.shape)\n",
        "    dbias_W1 = np.zeros(bias_W1.shape)\n",
        "    dbias_W2 = np.zeros(bias_W2.shape)\n",
        "\n",
        "    n_samples = X.shape[0]\n",
        "    batch_size = N_moves\n",
        "    shuffled_idxs = np.random.permutation(n_samples)\n",
        "\n",
        "    for batch in range(0, batch_size):\n",
        "\n",
        "        idx = shuffled_idxs[batch]\n",
        "        x0 = X[idx]\n",
        "        desired_output = y[idx]\n",
        "\n",
        "        h1 = np.dot(W1, x0) + bias_W1       # NEURAL ACTIVATION: INPUT LAYER -> HIDDEN LAYER\n",
        "\n",
        "        x1 = 1 / (1+np.exp(-h1))           # SIGMOID FUNCTION\n",
        "\n",
        "        h2 = np.dot(W2, x1) + bias_W2      # NEURAL ACTIVATION: HIDDEN LAYER -> OUTPUT LAYER\n",
        "\n",
        "        x2 = 1 / (1+np.exp(-h2))           # SIGMOID FUNCTION\n",
        "\n",
        "        e_n = desired_output - x2          # COMPUTE THE ERROR SIGNAL\n",
        "\n",
        "        delta2 = x2*(1-x2) * e_n           # BACKPROPAGATION: OUTPUT LAYER -> HIDDEN LAYER\n",
        "        dW2 += np.outer(delta2, x1) \n",
        "        dbias_W2 += delta2\n",
        "\n",
        "        delta1 = x1*(1-x1) * np.dot(W2.T, delta2)   # BACKPROPAGATION: HIDDEN LAYER -> INPUT LAYER\n",
        "        dW1 += np.outer(delta1, x0)\n",
        "        dbias_W1 += delta1\n",
        "\n",
        "    # UPDATE THE WEIGHTS\n",
        "    W2 += eta*dW2/batch_size\n",
        "    W1 += eta*dW1/batch_size\n",
        "\n",
        "    bias_W1 += eta*dbias_W1/batch_size\n",
        "    bias_W2 += eta*dbias_W2/batch_size\n",
        "\n",
        "    return W1, W2, bias_W1, bias_W2\n",
        "\n",
        "\n",
        "## PREDICTION FROM THE NEURAL NETWORK\n",
        "\n",
        "def predict(X, W1, W2, bias_W1, bias_W2):\n",
        "    h1 = np.dot(W1, X) + bias_W1       # NEURAL ACTIVATION: INPUT LAYER -> HIDDEN LAYER\n",
        "\n",
        "    x1 = 1 / (1+np.exp(-h1))           # SIGMOID FUNCTION\n",
        "\n",
        "    h2 = np.dot(W2, x1) + bias_W2      # NEURAL ACTIVATION: HIDDEN LAYER -> OUTPUT LAYER\n",
        "\n",
        "    x2 = 1 / (1+np.exp(-h2))           # SIGMOID FUNCTION\n",
        "\n",
        "    return x2"
      ],
      "metadata": {
        "id": "_SS5rbq-tzvd"
      },
      "id": "_SS5rbq-tzvd",
      "execution_count": null,
      "outputs": []
    },
    {
      "cell_type": "markdown",
      "source": [
        "### Epsilon-Greedy Policy"
      ],
      "metadata": {
        "id": "410eQRC7XG6M"
      },
      "id": "410eQRC7XG6M"
    },
    {
      "cell_type": "code",
      "source": [
        "## EPSILON-GREEDY POLICY\n",
        "\n",
        "def EpsilonGreedy_Policy(q_val, epsilon):\n",
        "    \n",
        "    N_a = np.shape(q_val)[0]\n",
        "\n",
        "    rand_value = np.random.uniform(0, 1)    # GENEATE A RANDOM NUMBER FROM THE UNIFORM DIST.\n",
        "\n",
        "    rand_a = rand_value < epsilon\n",
        "\n",
        "    if rand_a == True:\n",
        "        a = np.random.randint(0, N_a)   # SELECTED ACTION (EXPLORE)\n",
        "    else:\n",
        "        a = np.argmax(q_val)            # SELECTED ACTION (EXPLOIT)\n",
        "    \n",
        "    return a"
      ],
      "metadata": {
        "id": "BMY3iqRSazGU"
      },
      "id": "BMY3iqRSazGU",
      "execution_count": null,
      "outputs": []
    },
    {
      "cell_type": "markdown",
      "source": [
        "### Other Functions"
      ],
      "metadata": {
        "id": "wynjqoiGXJ_f"
      },
      "id": "wynjqoiGXJ_f"
    },
    {
      "cell_type": "code",
      "source": [
        "## OTHER FUNCTIONS\n",
        "\n",
        "def checkAllow(allowed_a, q_val):               ## RETURNS THE ALLOWED ACTION INDEX\n",
        "                                                ## AND THE CORRESPONDING Q VALUE\n",
        "    q_val_dict = dict()\n",
        "    for i in range(len(allowed_a)):\n",
        "        if allowed_a[i][0] == 1:                # EQUALS 1 IF THE ACTION a[i] IS ALLOWED\n",
        "            q_val_dict[i] = q_val[i]\n",
        "    q_val_lst = list(q_val_dict.values())       # THE VALUE LISTS OF THE DICTIONARY (CORRESPONDING Q VALUE)\n",
        "    allowed_lst = list(q_val_dict.keys())       # THE KEY LISTS OF THE DICTIONARY (ALLOWED ACTION INDEX)\n",
        "    return q_val_dict, q_val_lst, allowed_lst"
      ],
      "metadata": {
        "id": "wcjomMu913yi"
      },
      "id": "wcjomMu913yi",
      "execution_count": null,
      "outputs": []
    },
    {
      "cell_type": "markdown",
      "source": [
        "### Parameters"
      ],
      "metadata": {
        "id": "mho0J8qVXNEW"
      },
      "id": "mho0J8qVXNEW"
    },
    {
      "cell_type": "code",
      "source": [
        "# HYPERPARAMETERS SUGGESTED (FOR A GRID SIZE OF 4)\n",
        "\n",
        "epsilon_0 = 0.2      # STARTING VALUE OF EPSILON FOR THE EPSILON-GREEDY POLICY\n",
        "beta = 0.0005        # THE PARAMETER SETS HOW QUICKLY THE VALUE OF EPSILON IS DECAYING (SEE epsilon_f BELOW)\n",
        "gamma = 0.85         # THE DISCOUNT FACTOR\n",
        "eta = 0.1            # THE LEARNING RATE\n",
        "\n",
        "N_episodes = 80000   # THE NUMBER OF GAMES TO BE PLAYED \n",
        "                     # 80000 FOR DQL AND 120000 FOR SARSA TABULAR\n",
        "\n",
        "# SAVING VARIABLES\n",
        "R_save = np.zeros([N_episodes, 1])          # SAVE THE FINAL REWARD IN AN EPISODE\n",
        "N_moves_save = np.zeros([N_episodes, 1])    # NUMBER OF MOVES"
      ],
      "metadata": {
        "id": "96P4SV77ZLhf"
      },
      "id": "96P4SV77ZLhf",
      "execution_count": null,
      "outputs": []
    },
    {
      "cell_type": "markdown",
      "source": [
        "### Main Function"
      ],
      "metadata": {
        "id": "gcm1OA0YXEth"
      },
      "id": "gcm1OA0YXEth"
    },
    {
      "cell_type": "code",
      "execution_count": null,
      "id": "e6ba1f84",
      "metadata": {
        "id": "e6ba1f84"
      },
      "outputs": [],
      "source": [
        "# TRAINING LOOP BONE STRUCTURE\n",
        "# I WROTE FOR YOU A RANDOM AGENT (THE RANDOM AGENT WILL BE SLOWER TO GIVE CHECKMATE THAN AN OPTIMISED ONE, \n",
        "# SO DON'T GET CONCERNED BY THE TIME IT TAKES), CHANGE WITH YOURS ...\n",
        "np.random.seed(919)                             ## SET SEED\n",
        "\n",
        "for n in range(N_episodes):\n",
        "\n",
        "    epsilon_f = epsilon_0 / (1 + beta * n)      ## DECAYING EPSILON\n",
        "    Done = 0                                    ## SET DONE TO ZERO (BEGINNING OF THE EPISODE)\n",
        "    total_R = 0                                 ## TOTAL REWARD PER EPISODE\n",
        "    i = 1                                       ## COUNTER FOR NUMBER OF ACTIONS\n",
        "\n",
        "    # EPISODE DATA STORAGE\n",
        "    q_val_episode = []                          ## Q values of an episode \n",
        "    X_episode = []                              ## X of an episode \n",
        "    \n",
        "    S, X, allowed_a = env.Initialise_game()  \n",
        "    q_val = predict(X, W1, W2, bias_W1, bias_W2)               ## Q-VALUE\n",
        "    q_val_dict, q_val_lst, allowed_lst = checkAllow(allowed_a, q_val)\n",
        "    if n % 5000 == 0:\n",
        "        print(n)                                               ## CHECK THAT IT IS RUNNING\n",
        "    \n",
        "    while Done == 0:         ## START THE EPISODE\n",
        "\n",
        "        a = EpsilonGreedy_Policy(q_val_lst, epsilon_f)                            # EPSILON-GREEDY POLICY\n",
        "        S_next, X_next, allowed_a_next, R, Done = env.OneStep(allowed_lst[a])     # TAKE THE SELECTED ACTION\n",
        "\n",
        "        total_R += R        # UPDATE TOTAL REWARD\n",
        "        \n",
        "        ## THE EPISODE HAS ENDED, UPDATE\n",
        "        if Done == 1:\n",
        "            q_val[allowed_lst[a]] = R       # SET THE Q-VALUE TO REWARD\n",
        "            q_val_episode.append(q_val)\n",
        "            X_episode.append(X)\n",
        "            q_val_train = np.array(q_val_episode)   # A LIST OF Q VALUES IN AN EPISODE FOR WEIGHT UPDATE\n",
        "            X_train = np.array(X_episode)           # A LIST OF X IN AN EPISODE FOR WEIGHT UPDATE\n",
        "            W1, W2, bias_W1, bias_W2 = train(X_train, q_val_train, i, W1, W2, bias_W1, bias_W2)     # UPDATE THE WEIGHTS\n",
        "            break\n",
        "        \n",
        "\n",
        "        ## IF THE EPISODE IS NOT OVER\n",
        "        else:\n",
        "            q_val_next = predict(X_next, W1, W2, bias_W1, bias_W2)          # PREDICT Q VALUE FOR NEXT ACTION\n",
        "            delta = R + gamma*max(q_val_next) - q_val[allowed_lst[a]]\n",
        "            q_val[allowed_lst[a]] = q_val[allowed_lst[a]] + eta * delta     # Q-VALUE UPDATE\n",
        "            q_val_episode.append(q_val)     # COLLECT Q-VALUES FOR TRAINING\n",
        "            X_episode.append(X)             # COLLECT X FOR TRAINING\n",
        "            \n",
        "            \n",
        "        # NEXT STATE AND CO. BECOME ACTUAL STATE  \n",
        "        S = np.copy(S_next)\n",
        "        X = np.copy(X_next)\n",
        "        allowed_a = np.copy(allowed_a_next)\n",
        "        q_val_dict, q_val_lst, allowed_lst = checkAllow(allowed_a, q_val)\n",
        "        \n",
        "        i += 1  # UPDATE COUNTER FOR NUMBER OF ACTIONS\n",
        "\n",
        "    R_save[n] = total_R\n",
        "    N_moves_save[n] = i\n"
      ]
    },
    {
      "cell_type": "markdown",
      "source": [
        "### Saving R_save and N_moves_save as csv"
      ],
      "metadata": {
        "id": "FzJP1TslW7sS"
      },
      "id": "FzJP1TslW7sS"
    },
    {
      "cell_type": "code",
      "source": [
        "from numpy import savetxt\n",
        "savetxt('/content/drive/MyDrive/UZH/Introduction to Reinforcement Learning/Chessboard/csv_files/table_R_q4.csv', R_save, delimiter=',')\n",
        "savetxt('/content/drive/MyDrive/UZH/Introduction to Reinforcement Learning/Chessboard/csv_files/table_N_q4.csv', N_moves_save, delimiter=',')"
      ],
      "metadata": {
        "id": "pJzi4NLZ_u0E"
      },
      "id": "pJzi4NLZ_u0E",
      "execution_count": null,
      "outputs": []
    }
  ],
  "metadata": {
    "kernelspec": {
      "display_name": "Python 3 (ipykernel)",
      "language": "python",
      "name": "python3"
    },
    "language_info": {
      "codemirror_mode": {
        "name": "ipython",
        "version": 3
      },
      "file_extension": ".py",
      "mimetype": "text/x-python",
      "name": "python",
      "nbconvert_exporter": "python",
      "pygments_lexer": "ipython3",
      "version": "3.8.12"
    },
    "colab": {
      "name": "Assignment_DQL.ipynb",
      "provenance": [],
      "collapsed_sections": []
    }
  },
  "nbformat": 4,
  "nbformat_minor": 5
}