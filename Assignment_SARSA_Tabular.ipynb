{
  "cells": [
    {
      "cell_type": "markdown",
      "id": "02944396",
      "metadata": {
        "id": "02944396"
      },
      "source": [
        "# Assignment - SARSA Tabular"
      ]
    },
    {
      "cell_type": "markdown",
      "source": [
        "### Import libraries and relevant files"
      ],
      "metadata": {
        "id": "1-LZkfpf3ESs"
      },
      "id": "1-LZkfpf3ESs"
    },
    {
      "cell_type": "code",
      "execution_count": null,
      "id": "c9652bc6",
      "metadata": {
        "id": "c9652bc6"
      },
      "outputs": [],
      "source": [
        "## IMPORT\n",
        "import numpy as np\n",
        "import matplotlib.pyplot as plt\n",
        "import sys\n",
        "\n",
        "size_board = 4"
      ]
    },
    {
      "cell_type": "code",
      "source": [
        "from google.colab import drive\n",
        "drive.mount('/content/drive')\n",
        "sys.path.append('/content/drive/MyDrive/UZH/Introduction to Reinforcement Learning/Chessboard/')"
      ],
      "metadata": {
        "colab": {
          "base_uri": "https://localhost:8080/"
        },
        "id": "xTDDPhITq8S3",
        "outputId": "25d2552c-099e-4f23-ac5a-db1ba8d9c6db"
      },
      "id": "xTDDPhITq8S3",
      "execution_count": null,
      "outputs": [
        {
          "output_type": "stream",
          "name": "stdout",
          "text": [
            "Mounted at /content/drive\n"
          ]
        }
      ]
    },
    {
      "cell_type": "code",
      "source": [
        "from degree_freedom_queen import *\n",
        "from degree_freedom_king1 import *\n",
        "from degree_freedom_king2 import *\n",
        "from generate_game import *\n",
        "from Chess_env import *"
      ],
      "metadata": {
        "id": "bl7UICKurMD_"
      },
      "id": "bl7UICKurMD_",
      "execution_count": null,
      "outputs": []
    },
    {
      "cell_type": "markdown",
      "id": "0bceca7c",
      "metadata": {
        "id": "0bceca7c"
      },
      "source": [
        "## The Environment\n",
        "\n",
        "You can find the environment in the file Chess_env, which contains the class Chess_env. To define an object, you need to provide the board size considered as input. In our example, size_board=4. \n",
        "Chess_env is composed by the following methods:\n",
        "\n",
        "1. Initialise_game. The method initialises an episode by placing the three pieces considered (Agent's king and queen, enemy's king) in the chess board. The outputs of the method are described below in order.\n",
        "\n",
        "     self.Board: A matrix representing the board locations filled with 4 numbers: 0, no piece in that position; 1, location of the \n",
        "     agent's king; 2 location of the queen; 3 location of the enemy king.\n",
        "     \n",
        "     X: The features, that is the input to the neural network. See the assignment for more information regarding the            definition of the features adopted. To personalise this, go into the Features method of the class Chess_env() and change        accordingly.\n",
        "     \n",
        "     allowed_a: The allowed actions that the agent can make. The agent is moving a king, with a total number of 8                possible actions, and a queen, with a total number of $(board_{size}-1)\\times 8$ actions. The total number of possible actions correspond      to the sum of the two, but not all actions are allowed in a given position (movements to locations outside the borders or      against chess rules). Thus, the variable allowed_a is a vector that is one (zero) for an action that the agent can (can't)      make. Be careful, apply the policy considered on the actions that are allowed only.\n",
        "     \n",
        "\n",
        "2. OneStep. The method performs a one step update of the system. Given as input the action selected by the agent, it updates the chess board by performing that action and the response of the enemy king (which is a random allowed action in the settings considered). The first three outputs are the same as for the Initialise_game method, but the variables are computed for the position reached after the update of the system. The fourth and fifth outputs are:\n",
        "\n",
        "     R: The reward. To change this, look at the OneStep method of the class where the rewards are set.\n",
        "     \n",
        "     Done: A variable that is 1 if the episode has ended (checkmate or draw).\n",
        "     \n",
        "     \n",
        "3. Features. Given the chessboard position, the method computes the features.\n",
        "\n",
        "This information and a quick analysis of the class should be all you need to get going. The other functions that the class exploits are uncommented and constitute an example on how not to write a python code. You can take a look at them if you want, but it is not necessary.\n",
        "\n",
        "\n",
        "\n",
        "\n"
      ]
    },
    {
      "cell_type": "code",
      "execution_count": null,
      "id": "9593a299",
      "metadata": {
        "id": "9593a299"
      },
      "outputs": [],
      "source": [
        "## INITIALISE THE ENVIRONMENT\n",
        "env = Chess_Env(size_board)\n",
        "\n",
        "S, X, allowed_a = env.Initialise_game()                       # INTIALISE GAME"
      ]
    },
    {
      "cell_type": "markdown",
      "source": [
        "### Epsilon-Greedy Policy"
      ],
      "metadata": {
        "id": "OzvR0SRLZxpw"
      },
      "id": "OzvR0SRLZxpw"
    },
    {
      "cell_type": "code",
      "source": [
        "## EPSILON-GREEDY POLICY\n",
        "\n",
        "def EpsilonGreedy_Policy(q_val, epsilon):\n",
        "    \n",
        "    N_a = np.shape(q_val)[0]\n",
        "\n",
        "    rand_value = np.random.uniform(0, 1)    # GENEATE A RANDOM NUMBER FROM THE UNIFORM DIST.\n",
        "\n",
        "    rand_a = rand_value < epsilon\n",
        "\n",
        "    if rand_a == True:\n",
        "        a = np.random.randint(0, N_a)   # SELECTED ACTION (EXPLORE)\n",
        "    else:\n",
        "        a = np.argmax(q_val)            # SELECTED ACTION (EXPLOIT)\n",
        "    \n",
        "    return a"
      ],
      "metadata": {
        "id": "BMY3iqRSazGU"
      },
      "id": "BMY3iqRSazGU",
      "execution_count": null,
      "outputs": []
    },
    {
      "cell_type": "markdown",
      "source": [
        "### Other Functions"
      ],
      "metadata": {
        "id": "-bYrYrgnZ6a0"
      },
      "id": "-bYrYrgnZ6a0"
    },
    {
      "cell_type": "code",
      "source": [
        "## OTHER FUNCTIONS\n",
        "\n",
        "def checkAllow(allowed_a, q_val):           ## RETURNS THE ALLOWED ACTION INDEX\n",
        "                                            ## AND THE CORRESPONDING Q VALUE\n",
        "    q_val_dict = dict()\n",
        "    for i in range(len(allowed_a)):\n",
        "        if allowed_a[i][0] == 1:            # EQUALS 1 IF THE ACTION a[i] IS ALLOWED\n",
        "            q_val_dict[i] = q_val[i]\n",
        "    q_val_lst = list(q_val_dict.values())   # THE VALUE LISTS OF THE DICTIONARY (CORRESPONDING Q VALUE)\n",
        "    allowed_lst = list(q_val_dict.keys())   # THE KEY LISTS OF THE DICTIONARY (ALLOWED ACTION INDEX)\n",
        "    return q_val_dict, q_val_lst, allowed_lst\n",
        "\n",
        "def checkPosition(S):                       ## RETURNS THE POSITION OF EACH CHESS PIECE (1-16)\n",
        "    S = list(S.ravel())\n",
        "    pos_1, pos_2, pos_3 = S.index(1), S.index(2), S.index(3)\n",
        "    return pos_1, pos_2, pos_3"
      ],
      "metadata": {
        "id": "wcjomMu913yi"
      },
      "id": "wcjomMu913yi",
      "execution_count": null,
      "outputs": []
    },
    {
      "cell_type": "markdown",
      "source": [
        "### Parameters"
      ],
      "metadata": {
        "id": "SB9f4rEwZ8bX"
      },
      "id": "SB9f4rEwZ8bX"
    },
    {
      "cell_type": "code",
      "source": [
        "# HYPERPARAMETERS SUGGESTED (FOR A GRID SIZE OF 4)\n",
        "\n",
        "epsilon_0 = 0.8       # STARTING VALUE OF EPSILON FOR THE EPSILON-GREEDY POLICY\n",
        "beta = 0.0005         # THE PARAMETER SETS HOW QUICKLY THE VALUE OF EPSILON IS DECAYING (SEE epsilon_f BELOW)\n",
        "gamma = 0.01          # THE DISCOUNT FACTOR\n",
        "eta = 0.1             # THE LEARNING RATE\n",
        "\n",
        "N_episodes = 120000   # THE NUMBER OF GAMES TO BE PLAYED \n",
        "N_s = 16              # FLATTEN STATE DIMENSION\n",
        "N_a = 32              # Q VALUES DIMENSION\n",
        "\n",
        "# SAVING VARIABLES\n",
        "R_save = np.zeros([N_episodes, 1])          # SAVE THE FINAL REWARD IN AN EPISODE\n",
        "N_moves_save = np.zeros([N_episodes, 1])    # NUMBER OF MOVES\n",
        "q_table = np.random.randn(N_a, N_s, N_s, N_s)/1000       # INITIALISE Q TABLE"
      ],
      "metadata": {
        "id": "96P4SV77ZLhf"
      },
      "id": "96P4SV77ZLhf",
      "execution_count": null,
      "outputs": []
    },
    {
      "cell_type": "markdown",
      "source": [
        "### Main Function"
      ],
      "metadata": {
        "id": "H455yIwsZ-Zt"
      },
      "id": "H455yIwsZ-Zt"
    },
    {
      "cell_type": "code",
      "source": [
        "np.random.seed(919)                             ## SET SEED\n",
        "\n",
        "for n in range(N_episodes):\n",
        "\n",
        "    epsilon_f = epsilon_0 / (1 + beta * n)\n",
        "    Done = 0\n",
        "    total_R = 0\n",
        "    i = 1\n",
        "    \n",
        "    S, X, allowed_a = env.Initialise_game()     # INITIALISE THE ENVIRONMENT\n",
        "    pos_1, pos_2, pos_3 = checkPosition(S)      # GET THE POSITION OF EACH CHESS\n",
        "    q_val = np.copy(q_table[:, pos_1, pos_2, pos_3])\n",
        "    q_val_dict, q_val_lst, allowed_lst = checkAllow(allowed_a, q_val)   # CHECK THE ALLOWED ACTIONS AND ITS INDEX\n",
        "                                                                        # AND CORRESPONDING Q VALUES\n",
        "    a = EpsilonGreedy_Policy(q_val_lst, epsilon_f)                      # SELECT AN ACTION BY EPSILON-GREEDY POLICY\n",
        "    if n % 5000 == 0:\n",
        "        print(n)                                                        ## CHECK THAT IT IS RUNNING\n",
        "\n",
        "    while Done == 0:\n",
        "\n",
        "        S_next, X_next, allowed_a_next, R, Done = env.OneStep(allowed_lst[a])\n",
        "        pos_1_next, pos_2_next, pos_3_next = checkPosition(S_next)      # GET THE POSTION OF NEXT STEP\n",
        "\n",
        "        total_R += R        # UPDATE TOTAL REWARD\n",
        "\n",
        "        ## THE EPISODE HAS ENDED, UPDATE\n",
        "        if Done == 1:\n",
        "            # UPDATE Q TABLE\n",
        "            delta = R - q_table[allowed_lst[a], pos_1, pos_2, pos_3]\n",
        "            q_table[allowed_lst[a], pos_1, pos_2, pos_3] = q_table[allowed_lst[a], pos_1, pos_2, pos_3] + eta*delta\n",
        "            break\n",
        "\n",
        "        else:\n",
        "            q_val_next = np.copy(q_table[:, pos_1_next, pos_2_next, pos_3_next])\n",
        "            q_val_dict_next, q_val_lst_next, allowed_lst_next = checkAllow(allowed_a_next, q_val_next)  # CHECK THE ALLOWED ACTIONS AND ITS INDEX\n",
        "            a_next = EpsilonGreedy_Policy(q_val_lst_next, epsilon_f)    # SELECT AN ACTION BY EPSILON-GREEDY POLICY\n",
        "            # UPDATE Q TABLE\n",
        "            delta = R + gamma*q_table[allowed_lst_next[a_next], pos_1_next, pos_2_next, pos_3_next] - q_table[allowed_lst[a], pos_1, pos_2, pos_3]\n",
        "            q_table[allowed_lst[a], pos_1, pos_2, pos_3] = q_table[allowed_lst[a], pos_1, pos_2, pos_3] + eta*delta\n",
        "        \n",
        "        # NEXT STATE AND CO. BECOME ACTUAL STATE\n",
        "        S = np.copy(S_next)\n",
        "        X = np.copy(X_next)\n",
        "        allowed_a = np.copy(allowed_a_next)\n",
        "        a = a_next\n",
        "        q_val_dict, q_val_lst, allowed_lst = checkAllow(allowed_a, q_val)\n",
        "        i += 1  # UPDATE COUNTER FOR NUMBER OF ACTIONS\n",
        "\n",
        "    R_save[n] = total_R\n",
        "    N_moves_save[n] = i"
      ],
      "metadata": {
        "id": "Gqm4eVYRnGRv"
      },
      "id": "Gqm4eVYRnGRv",
      "execution_count": null,
      "outputs": []
    },
    {
      "cell_type": "markdown",
      "source": [
        "### Saving R_save and N_moves_save as csv"
      ],
      "metadata": {
        "id": "Hr_lvpgPaDSN"
      },
      "id": "Hr_lvpgPaDSN"
    },
    {
      "cell_type": "code",
      "source": [
        "from numpy import savetxt\n",
        "savetxt('/content/drive/MyDrive/UZH/Introduction to Reinforcement Learning/Chessboard/csv_files/table_R_v10.csv', R_save, delimiter=',')\n",
        "savetxt('/content/drive/MyDrive/UZH/Introduction to Reinforcement Learning/Chessboard/csv_files/table_N_v10.csv', N_moves_save, delimiter=',')"
      ],
      "metadata": {
        "id": "mc_SLgB0twTk"
      },
      "id": "mc_SLgB0twTk",
      "execution_count": null,
      "outputs": []
    },
    {
      "cell_type": "code",
      "source": [
        ""
      ],
      "metadata": {
        "id": "9mfHDgyegJrM"
      },
      "id": "9mfHDgyegJrM",
      "execution_count": null,
      "outputs": []
    }
  ],
  "metadata": {
    "kernelspec": {
      "display_name": "Python 3 (ipykernel)",
      "language": "python",
      "name": "python3"
    },
    "language_info": {
      "codemirror_mode": {
        "name": "ipython",
        "version": 3
      },
      "file_extension": ".py",
      "mimetype": "text/x-python",
      "name": "python",
      "nbconvert_exporter": "python",
      "pygments_lexer": "ipython3",
      "version": "3.8.12"
    },
    "colab": {
      "name": "Assignment_SARSA_Tabular.ipynb",
      "provenance": [],
      "collapsed_sections": []
    }
  },
  "nbformat": 4,
  "nbformat_minor": 5
}